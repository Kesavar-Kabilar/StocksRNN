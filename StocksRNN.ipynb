{
  "nbformat": 4,
  "nbformat_minor": 0,
  "metadata": {
    "colab": {
      "provenance": []
    },
    "kernelspec": {
      "name": "python3",
      "display_name": "Python 3"
    },
    "language_info": {
      "name": "python"
    }
  },
  "cells": [
    {
      "cell_type": "code",
      "source": [
        "import numpy as np\n",
        "import matplotlib.pyplot as plt\n",
        "import os"
      ],
      "metadata": {
        "id": "zcBloFZZlij0"
      },
      "execution_count": 1,
      "outputs": []
    },
    {
      "cell_type": "code",
      "execution_count": 2,
      "metadata": {
        "id": "vHO7xjuFlYJr",
        "colab": {
          "base_uri": "https://localhost:8080/"
        },
        "outputId": "048ee714-72c8-44e3-c187-b5f3ea032ec7"
      },
      "outputs": [
        {
          "output_type": "stream",
          "name": "stdout",
          "text": [
            "Mounted at /content/gdrive\n"
          ]
        }
      ],
      "source": [
        "from google.colab import drive\n",
        "drive.mount('/content/gdrive')"
      ]
    },
    {
      "cell_type": "code",
      "source": [
        "data_path = \"/content/gdrive/My Drive/Project/Stocks/\""
      ],
      "metadata": {
        "id": "MX5ZADY6sSHI"
      },
      "execution_count": 3,
      "outputs": []
    },
    {
      "cell_type": "code",
      "source": [
        "def get_all_files(data_path=data_path):\n",
        "    all_files = []\n",
        "\n",
        "    for file in os.listdir(data_path)[:100]:\n",
        "        f = open(data_path+file)\n",
        "        if len(f.readlines()) > 100: \n",
        "            all_files.append(data_path+file)\n",
        "        f.close()\n",
        "    \n",
        "    return all_files\n",
        "\n",
        "all_files = get_all_files()"
      ],
      "metadata": {
        "id": "BL3QKdpcxafy"
      },
      "execution_count": 4,
      "outputs": []
    },
    {
      "cell_type": "code",
      "source": [
        "n = len(all_files)\n",
        "\n",
        "all_files = np.array(all_files, dtype=str)\n",
        "np.random.shuffle(all_files)\n",
        "\n",
        "training_data = all_files[:int(n*0.6)] \n",
        "validation_data = all_files[int(n*0.6):int(n*0.8)]\n",
        "test_data = all_files[int(n*0.8):]"
      ],
      "metadata": {
        "id": "DjWTGCaO-fDn"
      },
      "execution_count": 5,
      "outputs": []
    },
    {
      "cell_type": "code",
      "source": [
        "def transform_data(file, K):\n",
        "    all_data = []\n",
        "\n",
        "    f = open(file, \"r\")\n",
        "\n",
        "    data = []\n",
        "    for line in f.readlines()[-100:]:\n",
        "        line = line.split(\",\")[1:-2]\n",
        "\n",
        "        data.append(line)\n",
        "        if len(data) == K+1:\n",
        "            all_data.append((np.array(data[:-1], dtype=float), float(data[-1][-1])))\n",
        "            data = data[1:]\n",
        "\n",
        "    f.close()\n",
        "    \n",
        "    return all_data"
      ],
      "metadata": {
        "id": "y7eK1ZeWxzs8"
      },
      "execution_count": 6,
      "outputs": []
    }
  ]
}