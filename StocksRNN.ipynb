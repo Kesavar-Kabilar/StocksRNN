{
  "nbformat": 4,
  "nbformat_minor": 0,
  "metadata": {
    "colab": {
      "provenance": []
    },
    "kernelspec": {
      "name": "python3",
      "display_name": "Python 3"
    },
    "language_info": {
      "name": "python"
    }
  },
  "cells": [
    {
      "cell_type": "code",
      "source": [
        "import numpy as np\n",
        "import matplotlib.pyplot as plt\n",
        "import os\n",
        "import torch\n",
        "import torch.nn as nn"
      ],
      "metadata": {
        "id": "zcBloFZZlij0"
      },
      "execution_count": 59,
      "outputs": []
    },
    {
      "cell_type": "code",
      "execution_count": 60,
      "metadata": {
        "id": "vHO7xjuFlYJr",
        "colab": {
          "base_uri": "https://localhost:8080/"
        },
        "outputId": "ef226861-eb81-4cb5-d5db-9f416e2625c6"
      },
      "outputs": [
        {
          "output_type": "stream",
          "name": "stdout",
          "text": [
            "Drive already mounted at /content/gdrive; to attempt to forcibly remount, call drive.mount(\"/content/gdrive\", force_remount=True).\n"
          ]
        }
      ],
      "source": [
        "from google.colab import drive\n",
        "drive.mount('/content/gdrive')"
      ]
    },
    {
      "cell_type": "code",
      "source": [
        "data_path = \"/content/gdrive/My Drive/Project/Stocks/\""
      ],
      "metadata": {
        "id": "MX5ZADY6sSHI"
      },
      "execution_count": 61,
      "outputs": []
    },
    {
      "cell_type": "code",
      "source": [
        "def get_all_files(data_path=data_path):\n",
        "    all_files = []\n",
        "\n",
        "    for file in os.listdir(data_path)[:10]:\n",
        "        f = open(data_path+file)\n",
        "        if len(f.readlines()) > 100: \n",
        "            all_files.append(data_path+file)\n",
        "        f.close()\n",
        "    \n",
        "    return all_files\n",
        "\n",
        "all_files = get_all_files()"
      ],
      "metadata": {
        "id": "BL3QKdpcxafy"
      },
      "execution_count": 62,
      "outputs": []
    },
    {
      "cell_type": "code",
      "source": [
        "n = len(all_files)\n",
        "\n",
        "all_files = np.array(all_files, dtype=str)\n",
        "np.random.shuffle(all_files)\n",
        "\n",
        "training_data = all_files[:int(n*0.6)] \n",
        "validation_data = all_files[int(n*0.6):int(n*0.8)]\n",
        "test_data = all_files[int(n*0.8):]"
      ],
      "metadata": {
        "id": "DjWTGCaO-fDn"
      },
      "execution_count": 63,
      "outputs": []
    },
    {
      "cell_type": "code",
      "source": [
        "def transform_data(file, K):\n",
        "    X, T = [], []\n",
        "\n",
        "    f = open(file, \"r\")\n",
        "\n",
        "    data = []\n",
        "    for line in f.readlines()[-100:]:\n",
        "        line = line.split(\",\")[1:-2]\n",
        "\n",
        "        data.append(line)\n",
        "        if len(data) == K+1:\n",
        "            x = np.array(data[:-1], dtype=float)\n",
        "            X.append(x)\n",
        "            T.append(float(data[-1][-1]))\n",
        "\n",
        "            data = data[1:]\n",
        "\n",
        "    f.close()\n",
        "    \n",
        "    return torch.tensor(X, dtype=torch.float), torch.tensor(T, dtype=torch.float)"
      ],
      "metadata": {
        "id": "y7eK1ZeWxzs8"
      },
      "execution_count": 71,
      "outputs": []
    },
    {
      "cell_type": "code",
      "source": [
        "class StocksRNN(nn.Module):\n",
        "    def __init__(self, input_size, hidden_size):\n",
        "        super(StocksRNN, self).__init__()\n",
        "        self.hidden_size = hidden_size\n",
        "        self.rnn = nn.RNN(input_size, hidden_size, batch_first=True)\n",
        "        self.fc = nn.Linear(hidden_size, 1)\n",
        "    \n",
        "    def forward(self, x):\n",
        "        out, _ = self.rnn(x)\n",
        "        out = self.fc(out[:, -1, :])\n",
        "        return out\n",
        "\n",
        "class StocksLSTM(nn.Module):\n",
        "    def __init__(self, input_size, hidden_size):\n",
        "        super(StocksLSTM, self).__init__()\n",
        "        self.hidden_size = hidden_size\n",
        "        self.lstm = nn.LSTM(input_size, hidden_size, batch_first=True)\n",
        "        self.fc = nn.Linear(hidden_size, 1)\n",
        "    \n",
        "    def forward(self, x):\n",
        "        out, _ = self.lstm(x)\n",
        "        out = self.fc(out[:, -1, :])\n",
        "        return out"
      ],
      "metadata": {
        "id": "t1Mjc2hMOe1L"
      },
      "execution_count": 83,
      "outputs": []
    },
    {
      "cell_type": "code",
      "source": [
        "def get_mean_squared_error(model, files, K):\n",
        "    error, total = 0, 0\n",
        "    for f in files:\n",
        "        X, T = transform_data(f, K)\n",
        "        output = model(X)\n",
        "        error += torch.sum((T - output)**2)\n",
        "\n",
        "        total += T.shape[0]\n",
        "    return error / total"
      ],
      "metadata": {
        "id": "q0KTGxKf9_Ti"
      },
      "execution_count": 88,
      "outputs": []
    }
  ]
}